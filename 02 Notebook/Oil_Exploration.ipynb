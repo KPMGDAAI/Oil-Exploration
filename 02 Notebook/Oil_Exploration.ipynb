{
  "nbformat": 4,
  "nbformat_minor": 0,
  "metadata": {
    "colab": {
      "provenance": []
    },
    "kernelspec": {
      "name": "python3",
      "display_name": "Python 3"
    },
    "language_info": {
      "name": "python"
    }
  },
  "cells": [
    {
      "cell_type": "markdown",
      "source": [
        "# Predicting Oil Reservoirs Exploration with Ali: A Journey Through Seismic Data, Transformations, and CNN - An Upstream Usecase"
      ],
      "metadata": {
        "id": "lMLc6wwaRVCo"
      }
    },
    {
      "cell_type": "markdown",
      "source": [
        "# Introduction: Meet Ali, the Reservoir Whisperer\n",
        "Ali is no stranger to the upstream exploration world. As a data expert at ADNOC, his job is to predict where to drill for oil, using seismic data and cutting-edge technology. But Ali knows that raw data alone won’t give him the accuracy he needs. That’s where his knowledge of data transformations and Convolutional Neural Networks (CNNs) comes into play.\n",
        "\n",
        "Today, Ali’s mission is to enhance seismic data with calculated features, ensuring it’s rich enough for the CNN to spot patterns that could lead to oil reservoirs. And of course, the more accurate Ali’s predictions, the better the business decisions for ADNOC.\n",
        "\n"
      ],
      "metadata": {
        "id": "6GOutHcSRkhY"
      }
    },
    {
      "cell_type": "markdown",
      "source": [
        "# 1. Setting the Scene: Ali Prepares His Tools\n",
        "Ali has everything he needs to begin his journey: Python libraries for data handling, visualization, and neural network modeling. He starts by loading his tools into the workspace."
      ],
      "metadata": {
        "id": "ctE41vArRsU2"
      }
    },
    {
      "cell_type": "code",
      "execution_count": 2,
      "metadata": {
        "id": "d8iYXRwpROEu"
      },
      "outputs": [],
      "source": [
        "# Step 1: Importing essential libraries for data handling, visualization, and model building\n",
        "import pandas as pd\n",
        "import numpy as np\n",
        "import matplotlib.pyplot as plt\n",
        "import seaborn as sns\n",
        "from sklearn.model_selection import train_test_split\n",
        "from sklearn.preprocessing import StandardScaler\n",
        "from tensorflow.keras import layers, models\n",
        "import warnings\n",
        "warnings.filterwarnings(\"ignore\")"
      ]
    },
    {
      "cell_type": "markdown",
      "source": [
        "With these in hand, Ali is ready to dive into the dataset. He knows that understanding the seismic data and transforming it for better predictions is the key to unlocking ADNOC’s upstream potential."
      ],
      "metadata": {
        "id": "Iof88fRfR4Hd"
      }
    },
    {
      "cell_type": "markdown",
      "source": [
        "# 2. Uploading the Seismic Data: The Start of the Journey\n",
        "Ali opens up the seismic data—his treasure map to find the next big oil reservoir. The data contains seismic measurements like wave velocity, amplitude, and reflection strength—important clues about the subsurface."
      ],
      "metadata": {
        "id": "XGq8aCSnR5MM"
      }
    },
    {
      "cell_type": "code",
      "source": [
        "# Load the selected CSV file into a pandas DataFrame\n",
        "df = pd.read_csv('seismic_dataset.csv')\n",
        "\n",
        "# Show the first few rows to ensure the data loaded properly\n",
        "print(\"First five rows of the dataset:\")\n",
        "print(df.head())"
      ],
      "metadata": {
        "id": "l1tyItptR-f8"
      },
      "execution_count": null,
      "outputs": []
    },
    {
      "cell_type": "markdown",
      "source": [
        "Ali loads the dataset, glancing at the first few rows to make sure everything looks good. But before he moves on to the modeling stage, he knows there’s something missing—features that could add more depth to his model. That’s where his feature engineering skills come into play."
      ],
      "metadata": {
        "id": "DnBV0jGnSCW6"
      }
    },
    {
      "cell_type": "markdown",
      "source": [
        "# 3. Enhancing the Data: Creating Calculated Features\n",
        "Ali knows that raw data is only part of the story. There are hidden patterns that can be unlocked through feature engineering, and these extra features can make all the difference. He sets about creating calculated features like Seismic Impedance and Amplitude-to-Reflection Strength Ratio to give the CNN a better chance of understanding the data."
      ],
      "metadata": {
        "id": "afHjLfRcSGCX"
      }
    },
    {
      "cell_type": "code",
      "source": [
        "# Step 3: Adding calculated features to the dataset\n",
        "\n",
        "# Seismic Impedance (Wave Velocity * Layer Thickness)\n",
        "df['Seismic_Impedance'] = df['Wave_Velocity'] * df['Layer_Thickness']\n",
        "\n",
        "# Amplitude-to-Reflection Strength Ratio\n",
        "df['Amplitude_to_Reflection_Ratio'] = df['Amplitude'] / df['Reflection_Strength']\n",
        "\n",
        "# Normalized Travel Time (Travel Time / Layer Thickness)\n",
        "df['Normalized_Travel_Time'] = df['Travel_Time'] / df['Layer_Thickness']\n",
        "\n",
        "# Fault Influence (Amplitude * Fault Presence)\n",
        "df['Fault_Influence'] = df['Amplitude'] * df['Fault_Presence']\n",
        "\n",
        "# Velocity-to-Layer Thickness Ratio\n",
        "df['Velocity_to_Layer_Ratio'] = df['Wave_Velocity'] / df['Layer_Thickness']\n",
        "\n",
        "# Display the updated dataset with the new features\n",
        "print(\"Updated dataset with calculated features:\")\n",
        "print(df.head())"
      ],
      "metadata": {
        "colab": {
          "base_uri": "https://localhost:8080/"
        },
        "id": "LK-oscNVSKlj",
        "outputId": "821c200c-0049-434e-a4bf-5c16ca653cdf"
      },
      "execution_count": 4,
      "outputs": [
        {
          "output_type": "stream",
          "name": "stdout",
          "text": [
            "Updated dataset with calculated features:\n",
            "   Amplitude  Wave_Velocity  Travel_Time  Reflection_Strength  Fault_Presence  \\\n",
            "0   1.935247       3.271360     1.930840             0.549703               1   \n",
            "1   4.758500       3.630460     1.731269             0.772072               0   \n",
            "2   3.686770       5.345463     0.963154             0.606400               0   \n",
            "3   3.033427       3.030020     3.075607             0.174972               0   \n",
            "4   0.864491       5.413424     2.435458             0.267022               0   \n",
            "\n",
            "   Layer_Thickness  Hydrocarbons_Present  Seismic_Impedance  \\\n",
            "0        55.261711                     0         180.780943   \n",
            "1        39.769328                     0         144.380971   \n",
            "2       306.054056                     0        1636.000714   \n",
            "3       483.396998                     0        1464.702445   \n",
            "4       256.333441                     0        1387.641497   \n",
            "\n",
            "   Amplitude_to_Reflection_Ratio  Normalized_Travel_Time  Fault_Influence  \\\n",
            "0                       3.520530                0.034940         1.935247   \n",
            "1                       6.163285                0.043533         0.000000   \n",
            "2                       6.079765                0.003147         0.000000   \n",
            "3                      17.336608                0.006362         0.000000   \n",
            "4                       3.237526                0.009501         0.000000   \n",
            "\n",
            "   Velocity_to_Layer_Ratio  \n",
            "0                 0.059198  \n",
            "1                 0.091288  \n",
            "2                 0.017466  \n",
            "3                 0.006268  \n",
            "4                 0.021119  \n"
          ]
        }
      ]
    },
    {
      "cell_type": "markdown",
      "source": [
        "By calculating Seismic Impedance, Ali gains insights into how seismic waves travel through different subsurface layers—important for identifying potential oil reservoirs. The Amplitude-to-Reflection Strength Ratio helps him understand how strong reflections indicate possible boundaries between oil-bearing and non-oil-bearing formations."
      ],
      "metadata": {
        "id": "e9efUCrrSNfr"
      }
    },
    {
      "cell_type": "markdown",
      "source": [
        "# 4. Preparing the Data for the CNN: Scaling and Splitting\n",
        "Now that Ali has enriched the dataset with extra features, he knows it’s time to prepare the data for the CNN. The features need to be on the same scale, so the model doesn’t get confused by large variations in magnitude. He also splits the data into training and testing sets to evaluate how well the model performs on unseen data."
      ],
      "metadata": {
        "id": "irfZnBzTSQ73"
      }
    },
    {
      "cell_type": "code",
      "source": [
        "# Step 4: Data preparation\n",
        "\n",
        "# Separate features (X) and target variable (y)\n",
        "X = df.drop('Hydrocarbons_Present', axis=1)\n",
        "y = df['Hydrocarbons_Present']\n",
        "\n",
        "# Normalize the features using StandardScaler\n",
        "scaler = StandardScaler()\n",
        "X_scaled = scaler.fit_transform(X)\n",
        "\n",
        "# Split the data into training and testing sets (80% train, 20% test)\n",
        "X_train, X_test, y_train, y_test = train_test_split(X_scaled, y, test_size=0.2, random_state=42)"
      ],
      "metadata": {
        "id": "1Bhu1_joSVSA"
      },
      "execution_count": 5,
      "outputs": []
    },
    {
      "cell_type": "markdown",
      "source": [
        "Ali uses StandardScaler to normalize the data, making sure that each feature contributes equally to the CNN’s learning process. Then, he splits the data into 80% for training and 20% for testing—an essential step to ensure the model can generalize well.\n",
        "\n",
        "# 5. Building the CNN: Ali’s Model Takes Shape\n",
        "\n",
        "With the data ready, Ali begins constructing his CNN. This model will scan through the seismic data, layer by layer, identifying patterns that indicate the likelihood of oil. It’s like having a digital geologist analyzing the subsurface without ever drilling a hole."
      ],
      "metadata": {
        "id": "8zoydyPuSZ6m"
      }
    },
    {
      "cell_type": "code",
      "source": [
        "# Step 5: Building the CNN model\n",
        "\n",
        "# Reshape the data for CNN input (samples, features, channels)\n",
        "X_train_reshaped = X_train.reshape(X_train.shape[0], X_train.shape[1], 1)\n",
        "X_test_reshaped = X_test.reshape(X_test.shape[0], X_test.shape[1], 1)\n",
        "\n",
        "# Initialize a Sequential model\n",
        "model = models.Sequential()\n",
        "\n",
        "# First convolutional layer\n",
        "model.add(layers.Conv1D(filters=64, kernel_size=3, activation='relu', input_shape=(X_train.shape[1], 1)))\n",
        "model.add(layers.MaxPooling1D(pool_size=2))\n",
        "\n",
        "# Second convolutional layer\n",
        "model.add(layers.Conv1D(filters=32, kernel_size=3, activation='relu'))\n",
        "model.add(layers.MaxPooling1D(pool_size=2))\n",
        "\n",
        "# Flatten the output from the convolutional layers\n",
        "model.add(layers.Flatten())\n",
        "\n",
        "# Dense layer for classification\n",
        "model.add(layers.Dense(64, activation='relu'))\n",
        "model.add(layers.Dropout(0.3))  # Dropout to prevent overfitting\n",
        "model.add(layers.Dense(1, activation='sigmoid'))  # Output layer for binary classification\n",
        "\n",
        "# Compile the model\n",
        "model.compile(optimizer='adam', loss='binary_crossentropy', metrics=['accuracy'])\n",
        "\n",
        "# Print a summary of the model\n",
        "model.summary()"
      ],
      "metadata": {
        "colab": {
          "base_uri": "https://localhost:8080/",
          "height": 385
        },
        "id": "Vg31DUe3Sf9b",
        "outputId": "c4fc0032-cacc-4e00-ff8e-b64d9c8d6d4d"
      },
      "execution_count": 6,
      "outputs": [
        {
          "output_type": "display_data",
          "data": {
            "text/plain": [
              "\u001b[1mModel: \"sequential\"\u001b[0m\n"
            ],
            "text/html": [
              "<pre style=\"white-space:pre;overflow-x:auto;line-height:normal;font-family:Menlo,'DejaVu Sans Mono',consolas,'Courier New',monospace\"><span style=\"font-weight: bold\">Model: \"sequential\"</span>\n",
              "</pre>\n"
            ]
          },
          "metadata": {}
        },
        {
          "output_type": "display_data",
          "data": {
            "text/plain": [
              "┏━━━━━━━━━━━━━━━━━━━━━━━━━━━━━━━━━━━━━━┳━━━━━━━━━━━━━━━━━━━━━━━━━━━━━┳━━━━━━━━━━━━━━━━━┓\n",
              "┃\u001b[1m \u001b[0m\u001b[1mLayer (type)                        \u001b[0m\u001b[1m \u001b[0m┃\u001b[1m \u001b[0m\u001b[1mOutput Shape               \u001b[0m\u001b[1m \u001b[0m┃\u001b[1m \u001b[0m\u001b[1m        Param #\u001b[0m\u001b[1m \u001b[0m┃\n",
              "┡━━━━━━━━━━━━━━━━━━━━━━━━━━━━━━━━━━━━━━╇━━━━━━━━━━━━━━━━━━━━━━━━━━━━━╇━━━━━━━━━━━━━━━━━┩\n",
              "│ conv1d (\u001b[38;5;33mConv1D\u001b[0m)                      │ (\u001b[38;5;45mNone\u001b[0m, \u001b[38;5;34m9\u001b[0m, \u001b[38;5;34m64\u001b[0m)               │             \u001b[38;5;34m256\u001b[0m │\n",
              "├──────────────────────────────────────┼─────────────────────────────┼─────────────────┤\n",
              "│ max_pooling1d (\u001b[38;5;33mMaxPooling1D\u001b[0m)         │ (\u001b[38;5;45mNone\u001b[0m, \u001b[38;5;34m4\u001b[0m, \u001b[38;5;34m64\u001b[0m)               │               \u001b[38;5;34m0\u001b[0m │\n",
              "├──────────────────────────────────────┼─────────────────────────────┼─────────────────┤\n",
              "│ conv1d_1 (\u001b[38;5;33mConv1D\u001b[0m)                    │ (\u001b[38;5;45mNone\u001b[0m, \u001b[38;5;34m2\u001b[0m, \u001b[38;5;34m32\u001b[0m)               │           \u001b[38;5;34m6,176\u001b[0m │\n",
              "├──────────────────────────────────────┼─────────────────────────────┼─────────────────┤\n",
              "│ max_pooling1d_1 (\u001b[38;5;33mMaxPooling1D\u001b[0m)       │ (\u001b[38;5;45mNone\u001b[0m, \u001b[38;5;34m1\u001b[0m, \u001b[38;5;34m32\u001b[0m)               │               \u001b[38;5;34m0\u001b[0m │\n",
              "├──────────────────────────────────────┼─────────────────────────────┼─────────────────┤\n",
              "│ flatten (\u001b[38;5;33mFlatten\u001b[0m)                    │ (\u001b[38;5;45mNone\u001b[0m, \u001b[38;5;34m32\u001b[0m)                  │               \u001b[38;5;34m0\u001b[0m │\n",
              "├──────────────────────────────────────┼─────────────────────────────┼─────────────────┤\n",
              "│ dense (\u001b[38;5;33mDense\u001b[0m)                        │ (\u001b[38;5;45mNone\u001b[0m, \u001b[38;5;34m64\u001b[0m)                  │           \u001b[38;5;34m2,112\u001b[0m │\n",
              "├──────────────────────────────────────┼─────────────────────────────┼─────────────────┤\n",
              "│ dropout (\u001b[38;5;33mDropout\u001b[0m)                    │ (\u001b[38;5;45mNone\u001b[0m, \u001b[38;5;34m64\u001b[0m)                  │               \u001b[38;5;34m0\u001b[0m │\n",
              "├──────────────────────────────────────┼─────────────────────────────┼─────────────────┤\n",
              "│ dense_1 (\u001b[38;5;33mDense\u001b[0m)                      │ (\u001b[38;5;45mNone\u001b[0m, \u001b[38;5;34m1\u001b[0m)                   │              \u001b[38;5;34m65\u001b[0m │\n",
              "└──────────────────────────────────────┴─────────────────────────────┴─────────────────┘\n"
            ],
            "text/html": [
              "<pre style=\"white-space:pre;overflow-x:auto;line-height:normal;font-family:Menlo,'DejaVu Sans Mono',consolas,'Courier New',monospace\">┏━━━━━━━━━━━━━━━━━━━━━━━━━━━━━━━━━━━━━━┳━━━━━━━━━━━━━━━━━━━━━━━━━━━━━┳━━━━━━━━━━━━━━━━━┓\n",
              "┃<span style=\"font-weight: bold\"> Layer (type)                         </span>┃<span style=\"font-weight: bold\"> Output Shape                </span>┃<span style=\"font-weight: bold\">         Param # </span>┃\n",
              "┡━━━━━━━━━━━━━━━━━━━━━━━━━━━━━━━━━━━━━━╇━━━━━━━━━━━━━━━━━━━━━━━━━━━━━╇━━━━━━━━━━━━━━━━━┩\n",
              "│ conv1d (<span style=\"color: #0087ff; text-decoration-color: #0087ff\">Conv1D</span>)                      │ (<span style=\"color: #00d7ff; text-decoration-color: #00d7ff\">None</span>, <span style=\"color: #00af00; text-decoration-color: #00af00\">9</span>, <span style=\"color: #00af00; text-decoration-color: #00af00\">64</span>)               │             <span style=\"color: #00af00; text-decoration-color: #00af00\">256</span> │\n",
              "├──────────────────────────────────────┼─────────────────────────────┼─────────────────┤\n",
              "│ max_pooling1d (<span style=\"color: #0087ff; text-decoration-color: #0087ff\">MaxPooling1D</span>)         │ (<span style=\"color: #00d7ff; text-decoration-color: #00d7ff\">None</span>, <span style=\"color: #00af00; text-decoration-color: #00af00\">4</span>, <span style=\"color: #00af00; text-decoration-color: #00af00\">64</span>)               │               <span style=\"color: #00af00; text-decoration-color: #00af00\">0</span> │\n",
              "├──────────────────────────────────────┼─────────────────────────────┼─────────────────┤\n",
              "│ conv1d_1 (<span style=\"color: #0087ff; text-decoration-color: #0087ff\">Conv1D</span>)                    │ (<span style=\"color: #00d7ff; text-decoration-color: #00d7ff\">None</span>, <span style=\"color: #00af00; text-decoration-color: #00af00\">2</span>, <span style=\"color: #00af00; text-decoration-color: #00af00\">32</span>)               │           <span style=\"color: #00af00; text-decoration-color: #00af00\">6,176</span> │\n",
              "├──────────────────────────────────────┼─────────────────────────────┼─────────────────┤\n",
              "│ max_pooling1d_1 (<span style=\"color: #0087ff; text-decoration-color: #0087ff\">MaxPooling1D</span>)       │ (<span style=\"color: #00d7ff; text-decoration-color: #00d7ff\">None</span>, <span style=\"color: #00af00; text-decoration-color: #00af00\">1</span>, <span style=\"color: #00af00; text-decoration-color: #00af00\">32</span>)               │               <span style=\"color: #00af00; text-decoration-color: #00af00\">0</span> │\n",
              "├──────────────────────────────────────┼─────────────────────────────┼─────────────────┤\n",
              "│ flatten (<span style=\"color: #0087ff; text-decoration-color: #0087ff\">Flatten</span>)                    │ (<span style=\"color: #00d7ff; text-decoration-color: #00d7ff\">None</span>, <span style=\"color: #00af00; text-decoration-color: #00af00\">32</span>)                  │               <span style=\"color: #00af00; text-decoration-color: #00af00\">0</span> │\n",
              "├──────────────────────────────────────┼─────────────────────────────┼─────────────────┤\n",
              "│ dense (<span style=\"color: #0087ff; text-decoration-color: #0087ff\">Dense</span>)                        │ (<span style=\"color: #00d7ff; text-decoration-color: #00d7ff\">None</span>, <span style=\"color: #00af00; text-decoration-color: #00af00\">64</span>)                  │           <span style=\"color: #00af00; text-decoration-color: #00af00\">2,112</span> │\n",
              "├──────────────────────────────────────┼─────────────────────────────┼─────────────────┤\n",
              "│ dropout (<span style=\"color: #0087ff; text-decoration-color: #0087ff\">Dropout</span>)                    │ (<span style=\"color: #00d7ff; text-decoration-color: #00d7ff\">None</span>, <span style=\"color: #00af00; text-decoration-color: #00af00\">64</span>)                  │               <span style=\"color: #00af00; text-decoration-color: #00af00\">0</span> │\n",
              "├──────────────────────────────────────┼─────────────────────────────┼─────────────────┤\n",
              "│ dense_1 (<span style=\"color: #0087ff; text-decoration-color: #0087ff\">Dense</span>)                      │ (<span style=\"color: #00d7ff; text-decoration-color: #00d7ff\">None</span>, <span style=\"color: #00af00; text-decoration-color: #00af00\">1</span>)                   │              <span style=\"color: #00af00; text-decoration-color: #00af00\">65</span> │\n",
              "└──────────────────────────────────────┴─────────────────────────────┴─────────────────┘\n",
              "</pre>\n"
            ]
          },
          "metadata": {}
        },
        {
          "output_type": "display_data",
          "data": {
            "text/plain": [
              "\u001b[1m Total params: \u001b[0m\u001b[38;5;34m8,609\u001b[0m (33.63 KB)\n"
            ],
            "text/html": [
              "<pre style=\"white-space:pre;overflow-x:auto;line-height:normal;font-family:Menlo,'DejaVu Sans Mono',consolas,'Courier New',monospace\"><span style=\"font-weight: bold\"> Total params: </span><span style=\"color: #00af00; text-decoration-color: #00af00\">8,609</span> (33.63 KB)\n",
              "</pre>\n"
            ]
          },
          "metadata": {}
        },
        {
          "output_type": "display_data",
          "data": {
            "text/plain": [
              "\u001b[1m Trainable params: \u001b[0m\u001b[38;5;34m8,609\u001b[0m (33.63 KB)\n"
            ],
            "text/html": [
              "<pre style=\"white-space:pre;overflow-x:auto;line-height:normal;font-family:Menlo,'DejaVu Sans Mono',consolas,'Courier New',monospace\"><span style=\"font-weight: bold\"> Trainable params: </span><span style=\"color: #00af00; text-decoration-color: #00af00\">8,609</span> (33.63 KB)\n",
              "</pre>\n"
            ]
          },
          "metadata": {}
        },
        {
          "output_type": "display_data",
          "data": {
            "text/plain": [
              "\u001b[1m Non-trainable params: \u001b[0m\u001b[38;5;34m0\u001b[0m (0.00 B)\n"
            ],
            "text/html": [
              "<pre style=\"white-space:pre;overflow-x:auto;line-height:normal;font-family:Menlo,'DejaVu Sans Mono',consolas,'Courier New',monospace\"><span style=\"font-weight: bold\"> Non-trainable params: </span><span style=\"color: #00af00; text-decoration-color: #00af00\">0</span> (0.00 B)\n",
              "</pre>\n"
            ]
          },
          "metadata": {}
        }
      ]
    },
    {
      "cell_type": "markdown",
      "source": [
        "Ali’s CNN consists of Convolutional Layers that extract patterns from the seismic data, with MaxPooling layers reducing the dimensions, making the model more efficient. He also adds Dropout to prevent overfitting—a common issue when dealing with smaller datasets. Finally, the Dense layer makes the prediction: Is there oil or not?\n",
        "\n",
        "# 6. Training and Evaluating the CNN: Predictions in Action\n",
        "Ali reaches the climax of his project—the training and evaluation of the CNN model. This phase is not just about running computations; it’s about interpreting what the model learns and ensuring it translates into actionable insights. Ali meticulously observes the training process, using visualizations to monitor the model’s performance and understand its predictions."
      ],
      "metadata": {
        "id": "irwKtKrdSisL"
      }
    },
    {
      "cell_type": "code",
      "source": [
        "# Step 6: Training and evaluating the CNN model\n",
        "\n",
        "# Train the model\n",
        "history = model.fit(X_train_reshaped, y_train, epochs=20, batch_size=32, validation_data=(X_test_reshaped, y_test))\n",
        "\n",
        "# Evaluate the model on the test data\n",
        "loss, accuracy = model.evaluate(X_test_reshaped, y_test)\n",
        "print(f\"Model Test Accuracy: {accuracy * 100:.2f}%\")\n",
        "\n",
        "# Plotting training and validation accuracy and loss over epochs\n",
        "plt.figure(figsize=(12, 5))\n",
        "\n",
        "# Plot training and validation accuracy\n",
        "plt.subplot(1, 2, 1)\n",
        "plt.plot(history.history['accuracy'], label='Training Accuracy')\n",
        "plt.plot(history.history['val_accuracy'], label='Validation Accuracy')\n",
        "plt.title('Training and Validation Accuracy')\n",
        "plt.legend()\n",
        "\n",
        "# Plot training and validation loss\n",
        "plt.subplot(1, 2, 2)\n",
        "plt.plot(history.history['loss'], label='Training Loss')\n",
        "plt.plot(history.history['val_loss'], label='Validation Loss')\n",
        "plt.title('Training and Validation Loss')\n",
        "plt.legend()\n",
        "\n",
        "plt.show()"
      ],
      "metadata": {
        "colab": {
          "base_uri": "https://localhost:8080/",
          "height": 1000
        },
        "id": "zRPE85sESngH",
        "outputId": "9f36c92c-36ae-407c-d023-16875b5ac498"
      },
      "execution_count": 7,
      "outputs": [
        {
          "output_type": "stream",
          "name": "stdout",
          "text": [
            "Epoch 1/20\n",
            "\u001b[1m125/125\u001b[0m \u001b[32m━━━━━━━━━━━━━━━━━━━━\u001b[0m\u001b[37m\u001b[0m \u001b[1m3s\u001b[0m 8ms/step - accuracy: 0.8093 - loss: 0.4568 - val_accuracy: 0.9110 - val_loss: 0.2562\n",
            "Epoch 2/20\n",
            "\u001b[1m125/125\u001b[0m \u001b[32m━━━━━━━━━━━━━━━━━━━━\u001b[0m\u001b[37m\u001b[0m \u001b[1m1s\u001b[0m 6ms/step - accuracy: 0.9098 - loss: 0.2267 - val_accuracy: 0.9480 - val_loss: 0.1206\n",
            "Epoch 3/20\n",
            "\u001b[1m125/125\u001b[0m \u001b[32m━━━━━━━━━━━━━━━━━━━━\u001b[0m\u001b[37m\u001b[0m \u001b[1m1s\u001b[0m 4ms/step - accuracy: 0.9635 - loss: 0.0939 - val_accuracy: 0.9770 - val_loss: 0.0635\n",
            "Epoch 4/20\n",
            "\u001b[1m125/125\u001b[0m \u001b[32m━━━━━━━━━━━━━━━━━━━━\u001b[0m\u001b[37m\u001b[0m \u001b[1m0s\u001b[0m 3ms/step - accuracy: 0.9761 - loss: 0.0553 - val_accuracy: 0.9710 - val_loss: 0.0611\n",
            "Epoch 5/20\n",
            "\u001b[1m125/125\u001b[0m \u001b[32m━━━━━━━━━━━━━━━━━━━━\u001b[0m\u001b[37m\u001b[0m \u001b[1m1s\u001b[0m 3ms/step - accuracy: 0.9849 - loss: 0.0463 - val_accuracy: 0.9830 - val_loss: 0.0498\n",
            "Epoch 6/20\n",
            "\u001b[1m125/125\u001b[0m \u001b[32m━━━━━━━━━━━━━━━━━━━━\u001b[0m\u001b[37m\u001b[0m \u001b[1m0s\u001b[0m 3ms/step - accuracy: 0.9854 - loss: 0.0410 - val_accuracy: 0.9770 - val_loss: 0.0514\n",
            "Epoch 7/20\n",
            "\u001b[1m125/125\u001b[0m \u001b[32m━━━━━━━━━━━━━━━━━━━━\u001b[0m\u001b[37m\u001b[0m \u001b[1m0s\u001b[0m 3ms/step - accuracy: 0.9884 - loss: 0.0346 - val_accuracy: 0.9800 - val_loss: 0.0423\n",
            "Epoch 8/20\n",
            "\u001b[1m125/125\u001b[0m \u001b[32m━━━━━━━━━━━━━━━━━━━━\u001b[0m\u001b[37m\u001b[0m \u001b[1m1s\u001b[0m 3ms/step - accuracy: 0.9859 - loss: 0.0339 - val_accuracy: 0.9790 - val_loss: 0.0467\n",
            "Epoch 9/20\n",
            "\u001b[1m125/125\u001b[0m \u001b[32m━━━━━━━━━━━━━━━━━━━━\u001b[0m\u001b[37m\u001b[0m \u001b[1m1s\u001b[0m 3ms/step - accuracy: 0.9872 - loss: 0.0305 - val_accuracy: 0.9750 - val_loss: 0.0612\n",
            "Epoch 10/20\n",
            "\u001b[1m125/125\u001b[0m \u001b[32m━━━━━━━━━━━━━━━━━━━━\u001b[0m\u001b[37m\u001b[0m \u001b[1m0s\u001b[0m 3ms/step - accuracy: 0.9893 - loss: 0.0312 - val_accuracy: 0.9800 - val_loss: 0.0458\n",
            "Epoch 11/20\n",
            "\u001b[1m125/125\u001b[0m \u001b[32m━━━━━━━━━━━━━━━━━━━━\u001b[0m\u001b[37m\u001b[0m \u001b[1m0s\u001b[0m 3ms/step - accuracy: 0.9882 - loss: 0.0283 - val_accuracy: 0.9820 - val_loss: 0.0461\n",
            "Epoch 12/20\n",
            "\u001b[1m125/125\u001b[0m \u001b[32m━━━━━━━━━━━━━━━━━━━━\u001b[0m\u001b[37m\u001b[0m \u001b[1m0s\u001b[0m 3ms/step - accuracy: 0.9888 - loss: 0.0340 - val_accuracy: 0.9840 - val_loss: 0.0430\n",
            "Epoch 13/20\n",
            "\u001b[1m125/125\u001b[0m \u001b[32m━━━━━━━━━━━━━━━━━━━━\u001b[0m\u001b[37m\u001b[0m \u001b[1m1s\u001b[0m 3ms/step - accuracy: 0.9900 - loss: 0.0281 - val_accuracy: 0.9770 - val_loss: 0.0665\n",
            "Epoch 14/20\n",
            "\u001b[1m125/125\u001b[0m \u001b[32m━━━━━━━━━━━━━━━━━━━━\u001b[0m\u001b[37m\u001b[0m \u001b[1m0s\u001b[0m 3ms/step - accuracy: 0.9909 - loss: 0.0265 - val_accuracy: 0.9800 - val_loss: 0.0512\n",
            "Epoch 15/20\n",
            "\u001b[1m125/125\u001b[0m \u001b[32m━━━━━━━━━━━━━━━━━━━━\u001b[0m\u001b[37m\u001b[0m \u001b[1m0s\u001b[0m 3ms/step - accuracy: 0.9889 - loss: 0.0209 - val_accuracy: 0.9820 - val_loss: 0.0347\n",
            "Epoch 16/20\n",
            "\u001b[1m125/125\u001b[0m \u001b[32m━━━━━━━━━━━━━━━━━━━━\u001b[0m\u001b[37m\u001b[0m \u001b[1m0s\u001b[0m 3ms/step - accuracy: 0.9923 - loss: 0.0254 - val_accuracy: 0.9800 - val_loss: 0.0346\n",
            "Epoch 17/20\n",
            "\u001b[1m125/125\u001b[0m \u001b[32m━━━━━━━━━━━━━━━━━━━━\u001b[0m\u001b[37m\u001b[0m \u001b[1m0s\u001b[0m 3ms/step - accuracy: 0.9906 - loss: 0.0225 - val_accuracy: 0.9860 - val_loss: 0.0358\n",
            "Epoch 18/20\n",
            "\u001b[1m125/125\u001b[0m \u001b[32m━━━━━━━━━━━━━━━━━━━━\u001b[0m\u001b[37m\u001b[0m \u001b[1m1s\u001b[0m 3ms/step - accuracy: 0.9908 - loss: 0.0222 - val_accuracy: 0.9760 - val_loss: 0.0682\n",
            "Epoch 19/20\n",
            "\u001b[1m125/125\u001b[0m \u001b[32m━━━━━━━━━━━━━━━━━━━━\u001b[0m\u001b[37m\u001b[0m \u001b[1m0s\u001b[0m 3ms/step - accuracy: 0.9882 - loss: 0.0315 - val_accuracy: 0.9820 - val_loss: 0.0360\n",
            "Epoch 20/20\n",
            "\u001b[1m125/125\u001b[0m \u001b[32m━━━━━━━━━━━━━━━━━━━━\u001b[0m\u001b[37m\u001b[0m \u001b[1m1s\u001b[0m 3ms/step - accuracy: 0.9925 - loss: 0.0201 - val_accuracy: 0.9840 - val_loss: 0.0365\n",
            "\u001b[1m32/32\u001b[0m \u001b[32m━━━━━━━━━━━━━━━━━━━━\u001b[0m\u001b[37m\u001b[0m \u001b[1m0s\u001b[0m 1ms/step - accuracy: 0.9874 - loss: 0.0312 \n",
            "Model Test Accuracy: 98.40%\n"
          ]
        },
        {
          "output_type": "display_data",
          "data": {
            "text/plain": [
              "<Figure size 1200x500 with 2 Axes>"
            ],
            "image/png": "[encoded data removed]"
          },
          "metadata": {}
        }
      ]
    },
    {
      "cell_type": "markdown",
      "source": [
        "# Ali’s Breakdown of the Graphs\n",
        "\n",
        "\n",
        "\n",
        "\n",
        "*   #   Training and Validation Accuracy:\n",
        "What it shows: This graph displays the accuracy of the model during the training phase (on training data) and validation phase (on unseen test data). Accuracy measures the percentage of predictions the model got right.\n",
        "Why it matters: High training accuracy indicates that the model is learning well from the dataset. However, high validation accuracy is crucial—it means the model not only learns but also generalizes its learning to new, unseen data. Ali keeps an eye on this to ensure there isn’t a significant gap between the two, which could indicate overfitting.\n",
        "*   # Training and Validation Loss:\n",
        "What it shows: The loss graph shows how the model’s prediction error decreases over time. Loss is a calculation of how far the model's predictions are from the actual values.\n",
        "Why it matters: Decreasing loss is a good sign—it means the model is improving. However, if the validation loss starts increasing or diverges from the training loss, it could be a signal that the model is memorizing the training data too closely and not adapting well to new data.\n",
        "*   # Ali’s Interpretation for ADNOC:\n",
        "By analyzing these graphs, Ali provides ADNOC with confidence in the model’s predictive capabilities. The visuals allow him to confirm the model's reliability and adjust parameters if needed to avoid overfitting, ensuring the model remains robust and accurate. This step is pivotal because a reliable model means ADNOC can trust its predictions to make informed decisions on where to drill, optimizing resource allocation and maximizing potential returns.\n",
        "\n",
        "\n",
        "# Conclusion: Turning Data into Decisions\n",
        "Ali’s journey doesn’t end with just a model. The enhanced seismic data and the trained CNN are now valuable tools in ADNOC’s upstream decision-making process. By identifying oil reservoirs with greater accuracy, Ali has helped reduce unnecessary drilling."
      ],
      "metadata": {
        "id": "bsWAv1e0Spry"
      }
    }
  ]
}